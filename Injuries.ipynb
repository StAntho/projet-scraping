{
 "cells": [
  {
   "cell_type": "markdown",
   "metadata": {},
   "source": [
    "# TP Suivi des blessures\n"
   ]
  },
  {
   "cell_type": "markdown",
   "metadata": {},
   "source": [
    "## Récolte des données"
   ]
  },
  {
   "cell_type": "code",
   "execution_count": 1,
   "metadata": {},
   "outputs": [
    {
     "name": "stdout",
     "output_type": "stream",
     "text": [
      "Requirement already satisfied: selenium in c:\\users\\antho\\appdata\\local\\programs\\python\\python310\\lib\\site-packages (4.16.0)\n",
      "Requirement already satisfied: certifi>=2021.10.8 in c:\\users\\antho\\appdata\\local\\programs\\python\\python310\\lib\\site-packages (from selenium) (2022.12.7)\n",
      "Requirement already satisfied: trio-websocket~=0.9 in c:\\users\\antho\\appdata\\local\\programs\\python\\python310\\lib\\site-packages (from selenium) (0.11.1)\n",
      "Requirement already satisfied: trio~=0.17 in c:\\users\\antho\\appdata\\local\\programs\\python\\python310\\lib\\site-packages (from selenium) (0.23.2)\n",
      "Requirement already satisfied: urllib3[socks]<3,>=1.26 in c:\\users\\antho\\appdata\\local\\programs\\python\\python310\\lib\\site-packages (from selenium) (1.26.0)\n",
      "Requirement already satisfied: sniffio>=1.3.0 in c:\\users\\antho\\appdata\\local\\programs\\python\\python310\\lib\\site-packages (from trio~=0.17->selenium) (1.3.0)\n",
      "Requirement already satisfied: cffi>=1.14 in c:\\users\\antho\\appdata\\local\\programs\\python\\python310\\lib\\site-packages (from trio~=0.17->selenium) (1.16.0)\n",
      "Requirement already satisfied: exceptiongroup in c:\\users\\antho\\appdata\\local\\programs\\python\\python310\\lib\\site-packages (from trio~=0.17->selenium) (1.1.0)\n",
      "Requirement already satisfied: attrs>=20.1.0 in c:\\users\\antho\\appdata\\local\\programs\\python\\python310\\lib\\site-packages (from trio~=0.17->selenium) (22.2.0)\n",
      "Requirement already satisfied: outcome in c:\\users\\antho\\appdata\\local\\programs\\python\\python310\\lib\\site-packages (from trio~=0.17->selenium) (1.3.0.post0)\n",
      "Requirement already satisfied: idna in c:\\users\\antho\\appdata\\local\\programs\\python\\python310\\lib\\site-packages (from trio~=0.17->selenium) (3.4)\n",
      "Requirement already satisfied: sortedcontainers in c:\\users\\antho\\appdata\\local\\programs\\python\\python310\\lib\\site-packages (from trio~=0.17->selenium) (2.4.0)\n",
      "Requirement already satisfied: wsproto>=0.14 in c:\\users\\antho\\appdata\\local\\programs\\python\\python310\\lib\\site-packages (from trio-websocket~=0.9->selenium) (1.2.0)\n",
      "Requirement already satisfied: PySocks!=1.5.7,<2.0,>=1.5.6 in c:\\users\\antho\\appdata\\local\\programs\\python\\python310\\lib\\site-packages (from urllib3[socks]<3,>=1.26->selenium) (1.7.1)\n",
      "Requirement already satisfied: pycparser in c:\\users\\antho\\appdata\\local\\programs\\python\\python310\\lib\\site-packages (from cffi>=1.14->trio~=0.17->selenium) (2.21)\n",
      "Requirement already satisfied: h11<1,>=0.9.0 in c:\\users\\antho\\appdata\\local\\programs\\python\\python310\\lib\\site-packages (from wsproto>=0.14->trio-websocket~=0.9->selenium) (0.14.0)\n"
     ]
    },
    {
     "name": "stderr",
     "output_type": "stream",
     "text": [
      "\n",
      "[notice] A new release of pip available: 22.2.1 -> 23.3.2\n",
      "[notice] To update, run: python.exe -m pip install --upgrade pip\n"
     ]
    }
   ],
   "source": [
    "#Instalation de la bibliothèque Selenium\n",
    "!pip install selenium"
   ]
  },
  {
   "cell_type": "code",
   "execution_count": 8,
   "metadata": {},
   "outputs": [],
   "source": [
    "# import de l'objet webdriver\n",
    "from selenium.webdriver.common.by import By\n",
    "from selenium.webdriver import Chrome"
   ]
  },
  {
   "cell_type": "code",
   "execution_count": 9,
   "metadata": {},
   "outputs": [],
   "source": [
    "driver = Chrome()"
   ]
  },
  {
   "cell_type": "code",
   "execution_count": 10,
   "metadata": {},
   "outputs": [],
   "source": [
    "driver.get(\"https://www.cbssports.com/nfl/injuries/daily/\")"
   ]
  },
  {
   "cell_type": "code",
   "execution_count": 11,
   "metadata": {},
   "outputs": [],
   "source": [
    "# reject cookies\n",
    "driver.find_element(By.ID, \"onetrust-reject-all-handler\").click()\n"
   ]
  },
  {
   "cell_type": "code",
   "execution_count": 12,
   "metadata": {},
   "outputs": [],
   "source": [
    "days = driver.find_elements(By.CLASS_NAME, \"TableBaseWrapper\")"
   ]
  },
  {
   "cell_type": "code",
   "execution_count": 8,
   "metadata": {},
   "outputs": [
    {
     "data": {
      "text/plain": [
       "'Wednesday, January 3, 2024'"
      ]
     },
     "execution_count": 8,
     "metadata": {},
     "output_type": "execute_result"
    }
   ],
   "source": [
    "# day\n",
    "days[0].find_element(By.TAG_NAME, \"h4\").text"
   ]
  },
  {
   "cell_type": "code",
   "execution_count": 13,
   "metadata": {},
   "outputs": [
    {
     "data": {
      "text/plain": [
       "'https://sports.cbsimg.net/fly/images/nfl/logos/team/404.svg'"
      ]
     },
     "execution_count": 13,
     "metadata": {},
     "output_type": "execute_result"
    }
   ],
   "source": [
    "# img team\n",
    "days[0].find_element(By.TAG_NAME, \"img\").get_attribute(\"src\")"
   ]
  },
  {
   "cell_type": "code",
   "execution_count": 11,
   "metadata": {},
   "outputs": [
    {
     "data": {
      "text/plain": [
       "'ARI'"
      ]
     },
     "execution_count": 11,
     "metadata": {},
     "output_type": "execute_result"
    }
   ],
   "source": [
    "# team\n",
    "days[0].find_element(By.CLASS_NAME, \"TeamName\").text"
   ]
  },
  {
   "cell_type": "code",
   "execution_count": 13,
   "metadata": {},
   "outputs": [
    {
     "data": {
      "text/plain": [
       "'V. Dimukeje'"
      ]
     },
     "execution_count": 13,
     "metadata": {},
     "output_type": "execute_result"
    }
   ],
   "source": [
    "# player\n",
    "days[0].find_element(By.CLASS_NAME, \"CellPlayerName--short\").text"
   ]
  },
  {
   "cell_type": "code",
   "execution_count": 14,
   "metadata": {},
   "outputs": [
    {
     "data": {
      "text/plain": [
       "<selenium.webdriver.remote.webelement.WebElement (session=\"8561462a677efe1efb69536a49c46dfa\", element=\"F11B89B731B04BE599096AE9F42244A6_element_167\")>"
      ]
     },
     "execution_count": 14,
     "metadata": {},
     "output_type": "execute_result"
    }
   ],
   "source": [
    "# injury location\n",
    "tr1 = days[0].find_elements(By.TAG_NAME, \"tr\")[1]\n",
    "tr1"
   ]
  },
  {
   "cell_type": "code",
   "execution_count": 44,
   "metadata": {},
   "outputs": [],
   "source": [
    "injury_location = tr1.find_elements(By.TAG_NAME, \"td\")[3].text"
   ]
  },
  {
   "cell_type": "code",
   "execution_count": 15,
   "metadata": {},
   "outputs": [
    {
     "data": {
      "text/plain": [
       "'https://sports.cbsimg.net/fly/images/nfl/logos/team/404.svg'"
      ]
     },
     "execution_count": 15,
     "metadata": {},
     "output_type": "execute_result"
    }
   ],
   "source": [
    "tr1.find_element(By.TAG_NAME, \"img\").get_attribute(\"src\")"
   ]
  },
  {
   "cell_type": "code",
   "execution_count": 16,
   "metadata": {},
   "outputs": [
    {
     "data": {
      "text/plain": [
       "'https://sports.cbsimg.net/fly/images/nfl/logos/team/404.svg'"
      ]
     },
     "execution_count": 16,
     "metadata": {},
     "output_type": "execute_result"
    }
   ],
   "source": [
    "tr1.find_element(By.CLASS_NAME, \"TeamLogo-image\").get_attribute(\"src\")"
   ]
  },
  {
   "cell_type": "code",
   "execution_count": 58,
   "metadata": {},
   "outputs": [
    {
     "data": {
      "text/plain": [
       "'Victor Dimukeje'"
      ]
     },
     "execution_count": 58,
     "metadata": {},
     "output_type": "execute_result"
    }
   ],
   "source": [
    "player_tr = tr1.find_elements(By.TAG_NAME, \"td\")[1].text"
   ]
  },
  {
   "cell_type": "code",
   "execution_count": 61,
   "metadata": {},
   "outputs": [
    {
     "data": {
      "text/plain": [
       "'ARI'"
      ]
     },
     "execution_count": 61,
     "metadata": {},
     "output_type": "execute_result"
    }
   ],
   "source": [
    "team_tr = tr1.find_elements(By.TAG_NAME, \"td\")[0].text\n",
    "team_tr"
   ]
  },
  {
   "cell_type": "code",
   "execution_count": null,
   "metadata": {},
   "outputs": [],
   "source": [
    "datas = {}\n",
    "for day in range(0, len(days)):\n",
    "    time.sleep(1)\n",
    "    # day\n",
    "    journey = days[day].find_element(By.TAG_NAME, \"h4\").text\n",
    "    # tr per day\n",
    "    trs = days[day].find_elements(By.TAG_NAME, \"tr\")\n",
    "    for tr in range(1, len(trs)):\n",
    "        time.sleep(1)\n",
    "        # img team\n",
    "        img_team = trs[tr].find_element(By.TAG_NAME, \"img\").get_attribute(\"src\")\n",
    "        # team\n",
    "        team = trs[tr].find_element(By.CLASS_NAME, \"TeamName\").text\n",
    "        # player\n",
    "        player = trs[tr].find_element(By.CLASS_NAME, \"CellPlayerName--short\").text\n",
    "        # injury location\n",
    "        injury_location = trs[tr].find_elements(By.TAG_NAME, \"td\")[3].text\n",
    "        # create dict\n",
    "        datas[str(random.randint(10000, 1000000))] = {\n",
    "            'player': player,\n",
    "            'img_team': img_team,\n",
    "            'team': team,\n",
    "            'injury_location': injury_location,\n",
    "            'injury_date': journey\n",
    "        }"
   ]
  },
  {
   "cell_type": "code",
   "execution_count": 57,
   "metadata": {},
   "outputs": [
    {
     "data": {
      "text/plain": [
       "''"
      ]
     },
     "execution_count": 57,
     "metadata": {},
     "output_type": "execute_result"
    }
   ],
   "source": [
    "tr1.find_element(By.CLASS_NAME, \"CellPlayerName--short\").text"
   ]
  },
  {
   "cell_type": "code",
   "execution_count": 9,
   "metadata": {},
   "outputs": [],
   "source": [
    "from selenium.webdriver import Chrome\n",
    "from selenium.webdriver.common.by import By\n",
    "from selenium.webdriver.common.keys import Keys\n",
    "import sqlalchemy as db\n",
    "import random\n",
    "import time\n",
    "\n",
    "def scraping_injuries(theme='nba', n_days=3):\n",
    "    \n",
    "    # 1  Connexion à la base de données\n",
    "    database = DataBase('Scraping_sport_injuries')\n",
    "\n",
    "    # 2 Création d'une table\n",
    "    if 'players-injured' not in database.table:\n",
    "        database.create_table(\n",
    "            'players-injured',\n",
    "            player=db.String,\n",
    "            sport=db.String,\n",
    "            img_team=db.String,\n",
    "            team=db.String,\n",
    "            injury_location=db.String,\n",
    "            injury_date=db.String,\n",
    "        )\n",
    "    driver = Chrome()\n",
    "    driver.get(f\"https://www.cbssports.com/{theme}/injuries/daily/\")\n",
    "    # reject cookies\n",
    "    driver.find_element(By.ID, \"onetrust-reject-all-handler\").click()\n",
    "    days = driver.find_elements(By.CLASS_NAME, \"TableBaseWrapper\")\n",
    "    datas = {}\n",
    "    for day in range(0, n_days):\n",
    "        time.sleep(1)\n",
    "        # day\n",
    "        journey = days[day].find_element(By.TAG_NAME, \"h4\").text\n",
    "        # tr per day\n",
    "        trs = days[day].find_elements(By.TAG_NAME, \"tr\")\n",
    "        for tr in range(1, len(trs)):\n",
    "            time.sleep(1)\n",
    "            # img team\n",
    "            img_team = trs[tr].find_element(By.CLASS_NAME, \"TeamLogo-image\").get_attribute(\"src\")\n",
    "            # team\n",
    "            team = trs[tr].find_elements(By.TAG_NAME, \"td\")[0].text\n",
    "            # player\n",
    "            player = trs[tr].find_elements(By.TAG_NAME, \"td\")[1].text\n",
    "            # injury location\n",
    "            injury_location = trs[tr].find_elements(By.TAG_NAME, \"td\")[3].text\n",
    "            if theme == 'nba':\n",
    "                sport = 'basketball'\n",
    "            elif theme == 'nfl':\n",
    "                sport = 'football'\n",
    "            else:\n",
    "                sport = 'hockey'\n",
    "            # create dict\n",
    "            # add row in db\n",
    "            if player not in database.select_table('players-injured'):        \n",
    "                database.add_row('players-injured', id_user=db.Integer, name=player, sport=sport, img_team=img_team, team=team, injury_location=injury_location, injury_date=journey)    \n",
    "            datas[str(random.randint(10000, 1000000))] = {\n",
    "                'player': player,\n",
    "                'sport': sport,\n",
    "                'img_team': img_team,\n",
    "                'team': team,\n",
    "                'injury_location': injury_location,\n",
    "                'injury_date': journey\n",
    "            }\n",
    "    driver.quit()\n",
    "    return datas        \n"
   ]
  },
  {
   "cell_type": "code",
   "execution_count": 12,
   "metadata": {},
   "outputs": [
    {
     "ename": "NameError",
     "evalue": "name 'DataBase' is not defined",
     "output_type": "error",
     "traceback": [
      "\u001b[1;31m---------------------------------------------------------------------------\u001b[0m",
      "\u001b[1;31mNameError\u001b[0m                                 Traceback (most recent call last)",
      "Cell \u001b[1;32mIn [12], line 1\u001b[0m\n\u001b[1;32m----> 1\u001b[0m \u001b[43mscraping_injuries\u001b[49m\u001b[43m(\u001b[49m\u001b[43mtheme\u001b[49m\u001b[38;5;241;43m=\u001b[39;49m\u001b[38;5;124;43m'\u001b[39;49m\u001b[38;5;124;43mnba\u001b[39;49m\u001b[38;5;124;43m'\u001b[39;49m\u001b[43m,\u001b[49m\u001b[43m \u001b[49m\u001b[43mn_days\u001b[49m\u001b[38;5;241;43m=\u001b[39;49m\u001b[38;5;241;43m6\u001b[39;49m\u001b[43m)\u001b[49m\n",
      "Cell \u001b[1;32mIn [9], line 11\u001b[0m, in \u001b[0;36mscraping_injuries\u001b[1;34m(theme, n_days)\u001b[0m\n\u001b[0;32m      8\u001b[0m \u001b[38;5;28;01mdef\u001b[39;00m \u001b[38;5;21mscraping_injuries\u001b[39m(theme\u001b[38;5;241m=\u001b[39m\u001b[38;5;124m'\u001b[39m\u001b[38;5;124mnba\u001b[39m\u001b[38;5;124m'\u001b[39m, n_days\u001b[38;5;241m=\u001b[39m\u001b[38;5;241m3\u001b[39m):\n\u001b[0;32m      9\u001b[0m     \n\u001b[0;32m     10\u001b[0m     \u001b[38;5;66;03m# 1  Connexion à la base de données\u001b[39;00m\n\u001b[1;32m---> 11\u001b[0m     database \u001b[38;5;241m=\u001b[39m \u001b[43mDataBase\u001b[49m(\u001b[38;5;124m'\u001b[39m\u001b[38;5;124mScraping_sport_injuries\u001b[39m\u001b[38;5;124m'\u001b[39m)\n\u001b[0;32m     13\u001b[0m     \u001b[38;5;66;03m# 2 Création d'une table\u001b[39;00m\n\u001b[0;32m     14\u001b[0m     \u001b[38;5;28;01mif\u001b[39;00m \u001b[38;5;124m'\u001b[39m\u001b[38;5;124mplayers-injured\u001b[39m\u001b[38;5;124m'\u001b[39m \u001b[38;5;129;01mnot\u001b[39;00m \u001b[38;5;129;01min\u001b[39;00m database\u001b[38;5;241m.\u001b[39mtable:\n",
      "\u001b[1;31mNameError\u001b[0m: name 'DataBase' is not defined"
     ]
    }
   ],
   "source": [
    "scraping_injuries(theme='nba', n_days=6)"
   ]
  },
  {
   "cell_type": "code",
   "execution_count": 11,
   "metadata": {},
   "outputs": [
    {
     "ename": "NameError",
     "evalue": "name 'driver' is not defined",
     "output_type": "error",
     "traceback": [
      "\u001b[1;31m---------------------------------------------------------------------------\u001b[0m",
      "\u001b[1;31mNameError\u001b[0m                                 Traceback (most recent call last)",
      "Cell \u001b[1;32mIn [11], line 1\u001b[0m\n\u001b[1;32m----> 1\u001b[0m \u001b[43mdriver\u001b[49m\u001b[38;5;241m.\u001b[39mquit()\n",
      "\u001b[1;31mNameError\u001b[0m: name 'driver' is not defined"
     ]
    }
   ],
   "source": [
    "driver.quit()"
   ]
  },
  {
   "cell_type": "code",
   "execution_count": null,
   "metadata": {},
   "outputs": [],
   "source": [
    "# nba nhl nfl mlb"
   ]
  },
  {
   "cell_type": "markdown",
   "metadata": {},
   "source": [
    "## Enregistrement en base de données"
   ]
  },
  {
   "cell_type": "code",
   "execution_count": 21,
   "metadata": {},
   "outputs": [],
   "source": [
    "# Gestion d'une base de données\n",
    "import sqlalchemy as db\n",
    "\n",
    "class DataBase():\n",
    "    def __init__(self, name_database='database'):\n",
    "        self.name = name_database\n",
    "        self.url = f\"sqlite:///{name_database}.db\"\n",
    "        self.engine = db.create_engine(self.url)\n",
    "        self.connection = self.engine.connect()\n",
    "        self.metadata = db.MetaData()\n",
    "        self.table = self.engine.table_names()\n",
    "\n",
    "    def create_table(self, name_table, **kwargs):\n",
    "        colums = [db.Column(k, v, primary_key = True) if 'id_' in k else db.Column(k, v) for k,v in kwargs.items()]\n",
    "        db.Table(name_table, self.metadata, *colums)\n",
    "        self.metadata.create_all(self.engine)\n",
    "        print(f\"Table : '{name_table}' are created succesfully\")\n",
    "\n",
    "    def read_table(self, name_table, return_keys=False):\n",
    "        table = db.Table(name_table, self.metadata, autoload=True, autoload_with=self.engine)\n",
    "        if return_keys:table.columns.keys()\n",
    "        else : return table\n",
    "\n",
    "\n",
    "    def add_row(self, name_table, **kwarrgs):\n",
    "        name_table = self.read_table(name_table)\n",
    "\n",
    "        stmt = (\n",
    "            db.insert(name_table).\n",
    "            values(kwarrgs)\n",
    "        )\n",
    "        self.connection.execute(stmt)\n",
    "        print(f'Row id added')\n",
    "\n",
    "\n",
    "    def delete_row_by_id(self, table, id_):\n",
    "        name_table = self.read_table(name_table)\n",
    "\n",
    "        stmt = (\n",
    "            db.delete(name_table).\n",
    "            where(students.c.id_ == id_)\n",
    "            )\n",
    "        self.connection.execute(stmt)\n",
    "        print(f'Row id {id_} deleted')\n",
    "\n",
    "    def select_table(self, name_table):\n",
    "        name_table = self.read_table(name_table)\n",
    "        stm = db.select([name_table])\n",
    "        return self.connection.execute(stm).fetchall()"
   ]
  },
  {
   "cell_type": "code",
   "execution_count": 4,
   "metadata": {},
   "outputs": [
    {
     "name": "stderr",
     "output_type": "stream",
     "text": [
      "C:\\Users\\antho\\AppData\\Local\\Temp\\ipykernel_9788\\3108415504.py:11: SADeprecationWarning: The Engine.table_names() method is deprecated and will be removed in a future release.  Please refer to Inspector.get_table_names(). (deprecated since: 1.4)\n",
      "  self.table = self.engine.table_names()\n"
     ]
    }
   ],
   "source": [
    "# Création d'une base de données\n",
    "database = DataBase('database_sport_injuries')"
   ]
  },
  {
   "cell_type": "code",
   "execution_count": 5,
   "metadata": {},
   "outputs": [
    {
     "name": "stdout",
     "output_type": "stream",
     "text": [
      "Table : 'players-injured' are created succesfully\n"
     ]
    }
   ],
   "source": [
    "# Création d'une table joueurs blessés\n",
    "database.create_table('players-injured', id_user=db.Integer, name=db.String, sport=db.String, img_team=db.String, team=db.String, injury_location=db.String, injury_date=db.String)"
   ]
  },
  {
   "cell_type": "code",
   "execution_count": null,
   "metadata": {},
   "outputs": [],
   "source": [
    "# Ajouter une ligne à la base de données\n",
    "database.add_row('players-injured', id_user=db.Integer, name=db.String, sport=db.String, img_team=db.String, team=db.String, injury_location=db.String, injury_date=db.String)"
   ]
  },
  {
   "cell_type": "markdown",
   "metadata": {},
   "source": [
    "## utilisation OpenAI"
   ]
  },
  {
   "cell_type": "code",
   "execution_count": null,
   "metadata": {},
   "outputs": [],
   "source": [
    "#Instalation de la bibliothèque openAI\n",
    "!pip install openai==0.28.0"
   ]
  },
  {
   "cell_type": "code",
   "execution_count": 1,
   "metadata": {},
   "outputs": [],
   "source": [
    "import openai\n",
    "#Placer votre clé API dans la variable ci-dessous\n",
    "openai.api_key = \"\""
   ]
  },
  {
   "cell_type": "code",
   "execution_count": 14,
   "metadata": {},
   "outputs": [],
   "source": [
    "# Générateur de texte\n",
    "def prompt_openAI(ask=\"la plus fréquente en basket\"): \n",
    "    response = openai.Completion.create(\n",
    "        engine=\"davinci\",\n",
    "        prompt=\"Quelles est la blessure \"+ ask +\" ?\",\n",
    "        temperature=0.5,\n",
    "        max_tokens=300)\n",
    "\n",
    "    return response.choices[0].text"
   ]
  },
  {
   "cell_type": "code",
   "execution_count": 16,
   "metadata": {},
   "outputs": [
    {
     "data": {
      "text/plain": [
       "\"\\n\\nAuteur Message\\n\\nAlfredo\\n\\n\\n\\n\\n\\n\\n\\n\\n\\nMessages : 743\\n\\nDate d'inscription : 18/12/2009\\n\\nAge : 28\\n\\nLocalisation : Rimouski\\n\\nMidget74318/12/200928Rimouski\\n\\nSujet: Re: Quelle est la blessurela moins fréquente en nhl? Ven 8 Juin - 14:32 Sujet: Re: Quelle est la blessurela moins fréquente en nhl?Ven 8 Juin - 14:32 c'est la blessure au pied\\n\\n_________________\\n\\n_________________\\n\\nContenu sponsorisé\\n\\n\\n\\n\\n\\n\\n\\n\\n\\nSujet: Re: Quelle est la blessurela moins fréquente en nhl? Sujet: Re: Quelle est la blessurela moins fréquente en nhl?\""
      ]
     },
     "execution_count": 16,
     "metadata": {},
     "output_type": "execute_result"
    }
   ],
   "source": [
    "prompt_openAI(ask=\"la moins fréquente en nhl\")"
   ]
  },
  {
   "cell_type": "code",
   "execution_count": 27,
   "metadata": {},
   "outputs": [],
   "source": [
    "def prompt2(ask=\"la moins fréquente en nhl\"):\n",
    "    reponse = openai.ChatCompletion.create(\n",
    "        model=\"gpt-3.5-turbo\",\n",
    "        messages=[\n",
    "            {\"role\": \"system\",\n",
    "            \"content\": f\"Quelles est la blessure \"+ ask +\" ?\"},\n",
    "            # {\"role\": \"user\",\n",
    "            # \"content\": \"Voici la liste des actualités à synthétiser :\" + actu},\n",
    "        ],\n",
    "        max_tokens=100,\n",
    "        temperature=0.9,\n",
    "    )\n",
    "\n",
    "    return reponse['choices'][0]['message'][\"content\"]"
   ]
  },
  {
   "cell_type": "code",
   "execution_count": 28,
   "metadata": {},
   "outputs": [
    {
     "data": {
      "text/plain": [
       "\"La blessure la moins fréquente en NFL est la rupture du tendon d'Achille. C'est une blessure rare qui se produit lorsqu'il y a une déchirure complète du tendon qui relie le muscle du mollet à l'os du talon. La plupart du temps, cette blessure survient lors d'un mouvement brusque ou d'une contraction soudaine du muscle du mollet. Bien que cette blessure soit rare,\""
      ]
     },
     "execution_count": 28,
     "metadata": {},
     "output_type": "execute_result"
    }
   ],
   "source": [
    "prompt2(ask=\"la moins fréquente en nfl\")"
   ]
  },
  {
   "cell_type": "code",
   "execution_count": null,
   "metadata": {},
   "outputs": [],
   "source": [
    "# fonction openAI\n",
    "def prompt_openAI(prompt):\n",
    "    openai.api_key = \"\"\n",
    "    reponse = openai.ChatCompletion.create(\n",
    "        model=\"gpt-3.5-turbo\",\n",
    "        messages=[\n",
    "            {\"role\": \"system\",\n",
    "            \"content\": f\"Quelles est la blessure \"+ prompt +\" ?\"},\n",
    "        ],\n",
    "        max_tokens=100,\n",
    "        temperature=0.9,\n",
    "    )\n",
    "\n",
    "    return reponse['choices'][0]['message'][\"content\"]"
   ]
  }
 ],
 "metadata": {
  "kernelspec": {
   "display_name": "Python 3",
   "language": "python",
   "name": "python3"
  },
  "language_info": {
   "codemirror_mode": {
    "name": "ipython",
    "version": 3
   },
   "file_extension": ".py",
   "mimetype": "text/x-python",
   "name": "python",
   "nbconvert_exporter": "python",
   "pygments_lexer": "ipython3",
   "version": "3.10.6"
  }
 },
 "nbformat": 4,
 "nbformat_minor": 2
}
